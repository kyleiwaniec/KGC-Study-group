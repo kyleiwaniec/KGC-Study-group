{
 "cells": [
  {
   "cell_type": "code",
   "execution_count": null,
   "metadata": {},
   "outputs": [],
   "source": []
  },
  {
   "cell_type": "code",
   "execution_count": 2,
   "metadata": {},
   "outputs": [],
   "source": [
    "import urllib"
   ]
  },
  {
   "cell_type": "code",
   "execution_count": 3,
   "metadata": {},
   "outputs": [],
   "source": [
    "sparql_string=urllib.parse.quote_plus(\"\"\"\n",
    "PREFIX rdf: <https://github.com/kyleiwaniec/ENRhOOT-Ontology/en-rhoot.owl#>\n",
    "SELECT ?RhetoricalFigure\n",
    "\"\"\")"
   ]
  },
  {
   "cell_type": "code",
   "execution_count": 4,
   "metadata": {},
   "outputs": [
    {
     "data": {
      "text/plain": [
       "'%0APREFIX+rdf%3A+%3Chttps%3A%2F%2Fgithub.com%2Fkyleiwaniec%2FENRhOOT-Ontology%2Fen-rhoot.owl%23%3E%0ASELECT+%3FRhetoricalFigure%0A'"
      ]
     },
     "execution_count": 4,
     "metadata": {},
     "output_type": "execute_result"
    }
   ],
   "source": [
    "sparql_string"
   ]
  },
  {
   "cell_type": "code",
   "execution_count": 6,
   "metadata": {},
   "outputs": [
    {
     "ename": "FileNotFoundError",
     "evalue": "[Errno 2] No such file or directory: '/Users/kylehamilton/MyDocuments/ML-Labs/semantic-web/code/KGC Study group notebooks/propaganda-detection/ENRhOOT-Ontology/en-rhoot.owl'",
     "output_type": "error",
     "traceback": [
      "\u001b[0;31m---------------------------------------------------------------------------\u001b[0m",
      "\u001b[0;31mFileNotFoundError\u001b[0m                         Traceback (most recent call last)",
      "\u001b[0;32m<ipython-input-6-548b6f4fa471>\u001b[0m in \u001b[0;36m<module>\u001b[0;34m\u001b[0m\n\u001b[1;32m     11\u001b[0m \u001b[0;34m\u001b[0m\u001b[0m\n\u001b[1;32m     12\u001b[0m \u001b[0mg\u001b[0m \u001b[0;34m=\u001b[0m \u001b[0mrdflib\u001b[0m\u001b[0;34m.\u001b[0m\u001b[0mGraph\u001b[0m\u001b[0;34m(\u001b[0m\u001b[0;34m)\u001b[0m\u001b[0;34m\u001b[0m\u001b[0;34m\u001b[0m\u001b[0m\n\u001b[0;32m---> 13\u001b[0;31m \u001b[0mg\u001b[0m\u001b[0;34m.\u001b[0m\u001b[0mparse\u001b[0m\u001b[0;34m(\u001b[0m\u001b[0;34m'../propaganda-detection/ENRhOOT-Ontology/en-rhoot.owl'\u001b[0m\u001b[0;34m,\u001b[0m \u001b[0mformat\u001b[0m\u001b[0;34m=\u001b[0m\u001b[0;34m'application/rdf+xml'\u001b[0m\u001b[0;34m)\u001b[0m\u001b[0;34m\u001b[0m\u001b[0;34m\u001b[0m\u001b[0m\n\u001b[0m\u001b[1;32m     14\u001b[0m \u001b[0mont\u001b[0m \u001b[0;34m=\u001b[0m \u001b[0mrdflib\u001b[0m\u001b[0;34m.\u001b[0m\u001b[0mNamespace\u001b[0m\u001b[0;34m(\u001b[0m\u001b[0;34m'https://github.com/kyleiwaniec/ENRhOOT-Ontology/'\u001b[0m\u001b[0;34m)\u001b[0m\u001b[0;34m\u001b[0m\u001b[0;34m\u001b[0m\u001b[0m\n\u001b[1;32m     15\u001b[0m \u001b[0mg\u001b[0m\u001b[0;34m.\u001b[0m\u001b[0mbind\u001b[0m\u001b[0;34m(\u001b[0m\u001b[0;34m'ont'\u001b[0m\u001b[0;34m,\u001b[0m \u001b[0mont\u001b[0m\u001b[0;34m)\u001b[0m\u001b[0;34m\u001b[0m\u001b[0;34m\u001b[0m\u001b[0m\n",
      "\u001b[0;32m~/anaconda3/lib/python3.7/site-packages/rdflib/graph.py\u001b[0m in \u001b[0;36mparse\u001b[0;34m(self, source, publicID, format, location, file, data, **args)\u001b[0m\n\u001b[1;32m   1066\u001b[0m             \u001b[0mfile\u001b[0m\u001b[0;34m=\u001b[0m\u001b[0mfile\u001b[0m\u001b[0;34m,\u001b[0m\u001b[0;34m\u001b[0m\u001b[0;34m\u001b[0m\u001b[0m\n\u001b[1;32m   1067\u001b[0m             \u001b[0mdata\u001b[0m\u001b[0;34m=\u001b[0m\u001b[0mdata\u001b[0m\u001b[0;34m,\u001b[0m\u001b[0;34m\u001b[0m\u001b[0;34m\u001b[0m\u001b[0m\n\u001b[0;32m-> 1068\u001b[0;31m             \u001b[0mformat\u001b[0m\u001b[0;34m=\u001b[0m\u001b[0mformat\u001b[0m\u001b[0;34m,\u001b[0m\u001b[0;34m\u001b[0m\u001b[0;34m\u001b[0m\u001b[0m\n\u001b[0m\u001b[1;32m   1069\u001b[0m         )\n\u001b[1;32m   1070\u001b[0m         \u001b[0;32mif\u001b[0m \u001b[0mformat\u001b[0m \u001b[0;32mis\u001b[0m \u001b[0;32mNone\u001b[0m\u001b[0;34m:\u001b[0m\u001b[0;34m\u001b[0m\u001b[0;34m\u001b[0m\u001b[0m\n",
      "\u001b[0;32m~/anaconda3/lib/python3.7/site-packages/rdflib/parser.py\u001b[0m in \u001b[0;36mcreate_input_source\u001b[0;34m(source, publicID, location, file, data, format)\u001b[0m\n\u001b[1;32m    189\u001b[0m         \u001b[0;32mif\u001b[0m \u001b[0mabsolute_location\u001b[0m\u001b[0;34m.\u001b[0m\u001b[0mstartswith\u001b[0m\u001b[0;34m(\u001b[0m\u001b[0;34m\"file:///\"\u001b[0m\u001b[0;34m)\u001b[0m\u001b[0;34m:\u001b[0m\u001b[0;34m\u001b[0m\u001b[0;34m\u001b[0m\u001b[0m\n\u001b[1;32m    190\u001b[0m             \u001b[0mfilename\u001b[0m \u001b[0;34m=\u001b[0m \u001b[0murl2pathname\u001b[0m\u001b[0;34m(\u001b[0m\u001b[0mabsolute_location\u001b[0m\u001b[0;34m.\u001b[0m\u001b[0mreplace\u001b[0m\u001b[0;34m(\u001b[0m\u001b[0;34m\"file:///\"\u001b[0m\u001b[0;34m,\u001b[0m \u001b[0;34m\"/\"\u001b[0m\u001b[0;34m)\u001b[0m\u001b[0;34m)\u001b[0m\u001b[0;34m\u001b[0m\u001b[0;34m\u001b[0m\u001b[0m\n\u001b[0;32m--> 191\u001b[0;31m             \u001b[0mfile\u001b[0m \u001b[0;34m=\u001b[0m \u001b[0mopen\u001b[0m\u001b[0;34m(\u001b[0m\u001b[0mfilename\u001b[0m\u001b[0;34m,\u001b[0m \u001b[0;34m\"rb\"\u001b[0m\u001b[0;34m)\u001b[0m\u001b[0;34m\u001b[0m\u001b[0;34m\u001b[0m\u001b[0m\n\u001b[0m\u001b[1;32m    192\u001b[0m         \u001b[0;32melse\u001b[0m\u001b[0;34m:\u001b[0m\u001b[0;34m\u001b[0m\u001b[0;34m\u001b[0m\u001b[0m\n\u001b[1;32m    193\u001b[0m             \u001b[0minput_source\u001b[0m \u001b[0;34m=\u001b[0m \u001b[0mURLInputSource\u001b[0m\u001b[0;34m(\u001b[0m\u001b[0mabsolute_location\u001b[0m\u001b[0;34m,\u001b[0m \u001b[0mformat\u001b[0m\u001b[0;34m)\u001b[0m\u001b[0;34m\u001b[0m\u001b[0;34m\u001b[0m\u001b[0m\n",
      "\u001b[0;31mFileNotFoundError\u001b[0m: [Errno 2] No such file or directory: '/Users/kylehamilton/MyDocuments/ML-Labs/semantic-web/code/KGC Study group notebooks/propaganda-detection/ENRhOOT-Ontology/en-rhoot.owl'"
     ]
    }
   ],
   "source": [
    "\n",
    "\"\"\"\n",
    "This file shows exemplary how to use SPARQL queries in Python on the GRhOOT ontology,\n",
    "the ontology for rhetorical figures in German.\n",
    "Examples are the competency question\n",
    "Q3: figures that are neither tropes not figures of speech\n",
    "Q4: looking for rhetorical figures that have their defining element in a word.\n",
    "Q5: looking for rhetorical figures where a letter is omitted.\n",
    "\"\"\"\n",
    "\n",
    "import rdflib\n",
    "\n",
    "g = rdflib.Graph()\n",
    "g.parse('../propaganda-detection/ENRhOOT-Ontology/en-rhoot.owl', format='application/rdf+xml')\n",
    "ont = rdflib.Namespace('https://github.com/kyleiwaniec/ENRhOOT-Ontology/')\n",
    "g.bind('ont', ont)\n",
    "\n",
    "\n",
    "# only figure of speech and figure of thought with position beginning\n",
    "competency_question_q3 = \"\"\"\n",
    "SELECT distinct ?figur\n",
    "WHERE {\n",
    "    ?figur ont:istRhetorischeGruppe ?gruppe .\n",
    "    ?gruppe rdfs:label ?gruppenName .\n",
    "    ?figur ont:istInPosition ?position .\n",
    "    ?position rdfs:label ?posName .\n",
    "    Filter (?gruppenName != \"Tropenfigur\" && ?gruppenName != \"Konstruktionsfigur\" && ?posName = \"Anfang\") }\n",
    "\"\"\"\n",
    "\n",
    "competency_question_q4 = \"\"\"\n",
    "SELECT distinct ?figur\n",
    "WHERE {\n",
    "    ?figur ont:liegtImBereich ?bereich .\n",
    "    ?bereich rdfs:label ?nameBereich .\n",
    "    Filter (?nameBereich = \"Wort\" ) }\n",
    "\"\"\"\n",
    "\n",
    "competency_question_q5 = \"\"\"\n",
    "SELECT distinct ?figur\n",
    "WHERE {\n",
    "    ?figur ont:wirdWeggelassen ?element .\n",
    "    ?element rdfs:label ?name .\n",
    "    Filter (?name = \"Buchstabe\" ) }\n",
    "\"\"\"\n",
    "\n",
    "\n",
    "print(\"Competency Question Q3: Neither a trope nor a figure of construction, but position at the beginning\")\n",
    "result = g.query(competency_question_q3)\n",
    "print(f\"Number of matching rhetorical figures: {len(result)}\")\n",
    "for row in result:\n",
    "    print(row)\n",
    "\n",
    "print(\"Competency Question Q4: In the area of a word\")\n",
    "result = g.query(competency_question_q4)\n",
    "print(f\"Number of matching rhetorical figures: {len(result)}\")\n",
    "for row in result:\n",
    "    print(row)\n",
    "\n",
    "print(\"\\nCompetency Question Q5: Where a letter is omitted\")\n",
    "result = g.query(competency_question_q5)\n",
    "print(f\"Number of matching rhetorical figures: {len(result)}\")\n",
    "for row in result:\n",
    "    print(row)\n"
   ]
  },
  {
   "cell_type": "code",
   "execution_count": null,
   "metadata": {},
   "outputs": [],
   "source": []
  }
 ],
 "metadata": {
  "kernelspec": {
   "display_name": "Python 3",
   "language": "python",
   "name": "python3"
  },
  "language_info": {
   "codemirror_mode": {
    "name": "ipython",
    "version": 3
   },
   "file_extension": ".py",
   "mimetype": "text/x-python",
   "name": "python",
   "nbconvert_exporter": "python",
   "pygments_lexer": "ipython3",
   "version": "3.7.3"
  }
 },
 "nbformat": 4,
 "nbformat_minor": 4
}
